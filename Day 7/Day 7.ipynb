{
 "cells": [
  {
   "cell_type": "markdown",
   "metadata": {},
   "source": [
    "# Day 7 - Assignment"
   ]
  },
  {
   "cell_type": "markdown",
   "metadata": {},
   "source": [
    "### Q1. Use the dictionary,\n",
    "        port1 = {21: \"FTP\", 22:\"SSH\", 23: \"telnet\", 80: \"http\"}, \n",
    "        \n",
    "        and make a new dictionary in which keys become values and values become keys, as shown: \n",
    "        \n",
    "        port2 = {“FTP\":21, \"SSH\":22, “telnet\":23,\"http\": 80}"
   ]
  },
  {
   "cell_type": "code",
   "execution_count": 1,
   "metadata": {},
   "outputs": [
    {
     "name": "stdout",
     "output_type": "stream",
     "text": [
      "{21: 'FTP', 22: 'SSH', 23: 'telnet', 80: 'http'} \n",
      "\n",
      "{'FTP': 21, 'SSH': 22, 'telnet': 23, 'http': 80}\n"
     ]
    }
   ],
   "source": [
    "port1 = {21: \"FTP\", 22:\"SSH\", 23: \"telnet\", 80: \"http\"}\n",
    "\n",
    "print(port1, '\\n')\n",
    "\n",
    "port2 = {value: key for key, value in port1.items()}\n",
    "\n",
    "print(port2)"
   ]
  },
  {
   "cell_type": "markdown",
   "metadata": {},
   "source": [
    "### Q2. Take a list of tuple as shown below.\n",
    "        [(1,2), (3,4), (5,6),(4,5)]\n",
    "        Make a new list which contains the sum of the number of tuples."
   ]
  },
  {
   "cell_type": "code",
   "execution_count": 2,
   "metadata": {},
   "outputs": [
    {
     "name": "stdout",
     "output_type": "stream",
     "text": [
      "[(1, 2), (3, 4), (5, 6), (4, 5)] \n",
      "\n",
      "[3, 7, 11, 9]\n"
     ]
    }
   ],
   "source": [
    "lst1 = [(1,2), (3,4), (5,6), (4,5)]\n",
    "\n",
    "print(lst1, \"\\n\")\n",
    "\n",
    "lst2 = [x[0]+x[1] for x in lst1]\n",
    "\n",
    "print(lst2)"
   ]
  },
  {
   "cell_type": "markdown",
   "metadata": {},
   "source": [
    "### Q3. Take a list as shown below\n",
    "        [(1,2,3), [1,2], ['a','hit','less']]\n",
    "        The List contains tuple and lists. Make the elements of inner lists and tuples to outer list"
   ]
  },
  {
   "cell_type": "code",
   "execution_count": 3,
   "metadata": {},
   "outputs": [
    {
     "name": "stdout",
     "output_type": "stream",
     "text": [
      "[(1, 2, 3), [1, 2], ['a', 'hit', 'less']] \n",
      "\n",
      "[1, 2, 3, 1, 2, 'a', 'hit', 'less']\n"
     ]
    }
   ],
   "source": [
    "lst = [(1,2,3), [1,2], ['a','hit','less']]\n",
    "\n",
    "print(lst, \"\\n\")\n",
    "\n",
    "lst_f = [n for i in lst for n in i]\n",
    "\n",
    "print(lst_f)"
   ]
  },
  {
   "cell_type": "code",
   "execution_count": null,
   "metadata": {},
   "outputs": [],
   "source": []
  }
 ],
 "metadata": {
  "kernelspec": {
   "display_name": "Python 3",
   "language": "python",
   "name": "python3"
  },
  "language_info": {
   "codemirror_mode": {
    "name": "ipython",
    "version": 3
   },
   "file_extension": ".py",
   "mimetype": "text/x-python",
   "name": "python",
   "nbconvert_exporter": "python",
   "pygments_lexer": "ipython3",
   "version": "3.7.7"
  }
 },
 "nbformat": 4,
 "nbformat_minor": 4
}
