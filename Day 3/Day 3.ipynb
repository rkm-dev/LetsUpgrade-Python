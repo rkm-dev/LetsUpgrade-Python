{
 "cells": [
  {
   "cell_type": "markdown",
   "metadata": {},
   "source": [
    "# Day 3 - Assignment"
   ]
  },
  {
   "cell_type": "markdown",
   "metadata": {},
   "source": [
    "### Q1. Find sum of n numbers with help of while loop."
   ]
  },
  {
   "cell_type": "code",
   "execution_count": 22,
   "metadata": {},
   "outputs": [
    {
     "name": "stdout",
     "output_type": "stream",
     "text": [
      "Enter a Number : 10\n",
      "Total sum = 55\n"
     ]
    }
   ],
   "source": [
    "num1 = input(\"Enter a Number : \")\n",
    "\n",
    "if(num1.isdigit()):\n",
    "    n = int(num1)\n",
    "    sum = 0\n",
    "    while(n!=0):\n",
    "        sum += n\n",
    "        n-=1\n",
    "    print(\"Total sum =\", sum)\n",
    "    "
   ]
  },
  {
   "cell_type": "markdown",
   "metadata": {},
   "source": [
    "### Q2. Take an integer and find whether the number is prime or not."
   ]
  },
  {
   "cell_type": "code",
   "execution_count": 23,
   "metadata": {},
   "outputs": [
    {
     "name": "stdout",
     "output_type": "stream",
     "text": [
      "Enter a Number : 7\n",
      "7 is prime\n",
      "\n"
     ]
    }
   ],
   "source": [
    "num = input(\"Enter a Number : \")\n",
    "\n",
    "if(num.isdigit()):\n",
    "    n = int(num)\n",
    "    if(n>0):\n",
    "        for i in range(2, n):\n",
    "            if (n % i) == 0:      #check whether the number is divisible by any other number\n",
    "                print(n, \"is not prime\")\n",
    "                break\n",
    "        else:\n",
    "            print(n, \"is prime\")\n",
    "\n",
    "print()"
   ]
  }
 ],
 "metadata": {
  "kernelspec": {
   "display_name": "Python 3",
   "language": "python",
   "name": "python3"
  },
  "language_info": {
   "codemirror_mode": {
    "name": "ipython",
    "version": 3
   },
   "file_extension": ".py",
   "mimetype": "text/x-python",
   "name": "python",
   "nbconvert_exporter": "python",
   "pygments_lexer": "ipython3",
   "version": "3.7.7"
  }
 },
 "nbformat": 4,
 "nbformat_minor": 4
}
