{
  "nbformat": 4,
  "nbformat_minor": 0,
  "metadata": {
    "colab": {
      "name": "Python Assignment Day 2",
      "provenance": []
    },
    "kernelspec": {
      "name": "python3",
      "display_name": "Python 3"
    },
    "language_info": {
      "name": "python"
    }
  },
  "cells": [
    {
      "cell_type": "markdown",
      "metadata": {
        "id": "KvUjqrsbqqbc"
      },
      "source": [
        "# Python Assignment Day 2"
      ]
    },
    {
      "cell_type": "code",
      "metadata": {
        "colab": {
          "base_uri": "https://localhost:8080/"
        },
        "id": "drKKPFGNq2F0",
        "outputId": "ab9002a0-56ac-4a66-a95a-f84e728ef945"
      },
      "source": [
        "# Question 1\n",
        "# Create 2 list with some brand names\n",
        "\n",
        "brand_lst1 = ['Nike', 'Addidas', 'LG', 'Apple', 'Microsoft', 'Nestle']\n",
        "brand_lst2 = ['Tesla', 'Microsoft', 'Western Digital', 'Adidas', 'Nestle', 'Samsung']\n",
        "\n",
        "brand_lst1, brand_lst2"
      ],
      "execution_count": 9,
      "outputs": [
        {
          "output_type": "execute_result",
          "data": {
            "text/plain": [
              "(['Nike', 'Addidas', 'LG', 'Apple', 'Microsoft', 'Nestle'],\n",
              " ['Tesla', 'Microsoft', 'Western Digital', 'Adidas', 'Nestle', 'Samsung'])"
            ]
          },
          "metadata": {
            "tags": []
          },
          "execution_count": 9
        }
      ]
    },
    {
      "cell_type": "code",
      "metadata": {
        "colab": {
          "base_uri": "https://localhost:8080/"
        },
        "id": "-0rx4s9Zr61C",
        "outputId": "3246505f-61c2-40aa-a6ad-aaca7117b625"
      },
      "source": [
        "# Question 2\n",
        "# List of overlapping brand names in both lists\n",
        "\n",
        "lset = set(brand_lst1) & set(brand_lst2)\n",
        "for i in lset:\n",
        "  print(i)"
      ],
      "execution_count": 10,
      "outputs": [
        {
          "output_type": "stream",
          "text": [
            "Microsoft\n",
            "Nestle\n"
          ],
          "name": "stdout"
        }
      ]
    },
    {
      "cell_type": "code",
      "metadata": {
        "colab": {
          "base_uri": "https://localhost:8080/"
        },
        "id": "xhnPr3_isq0C",
        "outputId": "1c40e9f1-c8cf-4854-f48b-7f5f30a3bceb"
      },
      "source": [
        "# Question 3\n",
        "# Print even numbers starting with 20 and ending with 40\n",
        "\n",
        "for i in range(20, 41):\n",
        "  if i%2==0:\n",
        "    print(i, end=\" \")"
      ],
      "execution_count": 11,
      "outputs": [
        {
          "output_type": "stream",
          "text": [
            "20 22 24 26 28 30 32 34 36 38 40 "
          ],
          "name": "stdout"
        }
      ]
    },
    {
      "cell_type": "code",
      "metadata": {
        "id": "fLNDs7i5tjzE"
      },
      "source": [
        ""
      ],
      "execution_count": null,
      "outputs": []
    }
  ]
}