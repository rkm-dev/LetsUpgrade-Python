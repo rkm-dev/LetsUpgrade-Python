{
 "cells": [
  {
   "cell_type": "markdown",
   "metadata": {},
   "source": [
    "# Day 5 - Assignment"
   ]
  },
  {
   "cell_type": "markdown",
   "metadata": {},
   "source": [
    "#### Q1. [0,1,2,10,4,1,0,56,2,0,1,3,0,56,0,4]\n",
    "\n",
    " #### Sort by increasing order but all zeros should be at the right hand side.\n"
   ]
  },
  {
   "cell_type": "code",
   "execution_count": 7,
   "metadata": {},
   "outputs": [
    {
     "name": "stdout",
     "output_type": "stream",
     "text": [
      "Given List :  [0, 1, 2, 10, 4, 1, 0, 56, 2, 0, 1, 3, 0, 56, 0, 4] \n",
      "\n",
      "After sort :  [1, 1, 1, 2, 2, 3, 4, 4, 10, 56, 56, 0, 0, 0, 0, 0]\n"
     ]
    }
   ],
   "source": [
    "lst = [0,1,2,10,4,1,0,56,2,0,1,3,0,56,0,4]\n",
    "\n",
    "print(\"Given List : \", lst, \"\\n\")\n",
    "\n",
    "lst0 = []\n",
    "lstA = [] \n",
    "for i in lst:\n",
    "    if(i == 0):\n",
    "        lst0.append(i)\n",
    "    else:\n",
    "        lstA.append(i)\n",
    "else:\n",
    "    print(\"After sort : \",sorted(lstA)+lst0)\n",
    "    \n",
    "        "
   ]
  },
  {
   "cell_type": "markdown",
   "metadata": {},
   "source": [
    "#### Q1. list1=[10,20,40,60,70,80] sorted list\n",
    "\n",
    "   #### list2=[5,15,25,35,45,60] sorted list\n",
    " \n",
    "   #### Merge these two sorted lists to produce one sorted list, but use only loop either while or for only one time.\n"
   ]
  },
  {
   "cell_type": "code",
   "execution_count": 15,
   "metadata": {},
   "outputs": [
    {
     "name": "stdout",
     "output_type": "stream",
     "text": [
      "[5, 10, 15, 20, 25, 35, 40, 45, 60, 60, 70, 80]\n"
     ]
    }
   ],
   "source": [
    "list1=[10,20,40,60,70,80]\n",
    "list2=[5,15,25,35,45,60]\n",
    "\n",
    "i,j=0,0\n",
    "list3 = []\n",
    "\n",
    "while i<len(list1) and j<len(list2):\n",
    "    if(list1[i]<list2[j]):\n",
    "        list3.append(list1[i])\n",
    "        i+=1\n",
    "    else:\n",
    "        list3.append(list2[j])\n",
    "        j += 1\n",
    "        \n",
    "list3 = list3 + list1[i:] + list2[j:] \n",
    "\n",
    "print(list3)\n",
    "        "
   ]
  },
  {
   "cell_type": "code",
   "execution_count": null,
   "metadata": {},
   "outputs": [],
   "source": []
  }
 ],
 "metadata": {
  "kernelspec": {
   "display_name": "Python 3",
   "language": "python",
   "name": "python3"
  },
  "language_info": {
   "codemirror_mode": {
    "name": "ipython",
    "version": 3
   },
   "file_extension": ".py",
   "mimetype": "text/x-python",
   "name": "python",
   "nbconvert_exporter": "python",
   "pygments_lexer": "ipython3",
   "version": "3.7.7"
  }
 },
 "nbformat": 4,
 "nbformat_minor": 4
}
