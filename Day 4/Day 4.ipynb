{
 "cells": [
  {
   "cell_type": "markdown",
   "metadata": {},
   "source": [
    "# Day 4 - Assignment"
   ]
  },
  {
   "cell_type": "markdown",
   "metadata": {},
   "source": [
    "## Q1. Find all occurrence of substring in the given string : \n",
    "\n",
    "  ## “what we think we become; we are Python programmer” \n",
    "   \n",
    "   ## Print the index values."
   ]
  },
  {
   "cell_type": "code",
   "execution_count": 15,
   "metadata": {},
   "outputs": [
    {
     "name": "stdout",
     "output_type": "stream",
     "text": [
      "The given string is : 'what we think we become; we are Python programmer'\n",
      "\n",
      "Substring 'we' occurs at 3 positions at [5, 14, 25]\n"
     ]
    }
   ],
   "source": [
    "\n",
    "atPos=[]\n",
    "pos = 0\n",
    "flag=True\n",
    "str1 = \"what we think we become; we are Python programmer\"\n",
    "\n",
    "while(flag):\n",
    "    pos=str1.find(\"we\",pos)\n",
    "    if(pos)<0:\n",
    "        flag=False\n",
    "    else:\n",
    "        atPos.append(pos)\n",
    "        pos+=1\n",
    "\n",
    "print(f\"The given string is : '{str1}'\\n\")\n",
    "if(len(atPos)!=0):\n",
    "    print(f\"Substring 'we' occurs at {len(atPos)} positions at {atPos}\")\n",
    "else :\n",
    "    print(f\"Substring 'we' occurs at {len(atPos)} occurances within the given string\\n\\n\")\n"
   ]
  },
  {
   "cell_type": "markdown",
   "metadata": {},
   "source": [
    "## Q2. Explain using\n",
    "   ### islower()\n",
    "   ### isupper()   \n",
    "   ### with different kinds of strings."
   ]
  },
  {
   "cell_type": "markdown",
   "metadata": {},
   "source": [
    "### Ans. isupper and islower are string methods\n",
    "\n",
    "#### isupper is used to check whether the given string is in upper case\n",
    "\n",
    "#### islower is used to check whether the given string is in lower case\n"
   ]
  },
  {
   "cell_type": "code",
   "execution_count": 16,
   "metadata": {
    "scrolled": true
   },
   "outputs": [
    {
     "data": {
      "text/plain": [
       "False"
      ]
     },
     "execution_count": 16,
     "metadata": {},
     "output_type": "execute_result"
    }
   ],
   "source": [
    "str1=\"hello\"\n",
    "str1.isupper()"
   ]
  },
  {
   "cell_type": "code",
   "execution_count": 17,
   "metadata": {},
   "outputs": [
    {
     "data": {
      "text/plain": [
       "True"
      ]
     },
     "execution_count": 17,
     "metadata": {},
     "output_type": "execute_result"
    }
   ],
   "source": [
    "str1.islower()"
   ]
  },
  {
   "cell_type": "code",
   "execution_count": 21,
   "metadata": {},
   "outputs": [
    {
     "data": {
      "text/plain": [
       "True"
      ]
     },
     "execution_count": 21,
     "metadata": {},
     "output_type": "execute_result"
    }
   ],
   "source": [
    "str2=\"HELLO\"\n",
    "str2.isupper()"
   ]
  }
 ],
 "metadata": {
  "kernelspec": {
   "display_name": "Python 3",
   "language": "python",
   "name": "python3"
  },
  "language_info": {
   "codemirror_mode": {
    "name": "ipython",
    "version": 3
   },
   "file_extension": ".py",
   "mimetype": "text/x-python",
   "name": "python",
   "nbconvert_exporter": "python",
   "pygments_lexer": "ipython3",
   "version": "3.7.7"
  }
 },
 "nbformat": 4,
 "nbformat_minor": 4
}
